{
 "cells": [
  {
   "cell_type": "code",
   "execution_count": 1,
   "metadata": {},
   "outputs": [],
   "source": [
    "import numpy as np\n",
    "import pandas as pd\n",
    "from time import time\n",
    "\n",
    "import warnings\n",
    "warnings.filterwarnings(action=\"ignore\")"
   ]
  },
  {
   "cell_type": "code",
   "execution_count": 2,
   "metadata": {},
   "outputs": [],
   "source": [
    "df_all = pd.read_csv(\"../../datasets/training_2nd_dataset.csv\")"
   ]
  },
  {
   "cell_type": "code",
   "execution_count": 3,
   "metadata": {},
   "outputs": [
    {
     "data": {
      "text/plain": [
       "domain_10    2475308\n",
       "domain_8     1906956\n",
       "domain_12    1883723\n",
       "domain_6     1052742\n",
       "domain_20     550032\n",
       "domain_18     503443\n",
       "domain_16     336196\n",
       "domain_4      291600\n",
       "Name: domain_name, dtype: int64"
      ]
     },
     "execution_count": 3,
     "metadata": {},
     "output_type": "execute_result"
    }
   ],
   "source": [
    "app_uni = df_all['domain_name'].value_counts()\n",
    "app_uni"
   ]
  },
  {
   "cell_type": "code",
   "execution_count": 4,
   "metadata": {},
   "outputs": [
    {
     "data": {
      "text/plain": [
       "1125000.0"
      ]
     },
     "execution_count": 4,
     "metadata": {},
     "output_type": "execute_result"
    }
   ],
   "source": [
    "np.mean(app_uni)"
   ]
  },
  {
   "cell_type": "code",
   "execution_count": 5,
   "metadata": {},
   "outputs": [
    {
     "data": {
      "text/plain": [
       "['domain_10',\n",
       " 'domain_8',\n",
       " 'domain_12',\n",
       " 'domain_6',\n",
       " 'domain_20',\n",
       " 'domain_18',\n",
       " 'domain_16',\n",
       " 'domain_4']"
      ]
     },
     "execution_count": 5,
     "metadata": {},
     "output_type": "execute_result"
    }
   ],
   "source": [
    "app_uni.index.to_list()"
   ]
  },
  {
   "cell_type": "code",
   "execution_count": 6,
   "metadata": {},
   "outputs": [
    {
     "data": {
      "text/plain": [
       "domain_name\n",
       "domain_10    483\n",
       "domain_12    458\n",
       "domain_16    221\n",
       "domain_18    286\n",
       "domain_20    228\n",
       "domain_4     114\n",
       "domain_6     430\n",
       "domain_8     452\n",
       "Name: node_name, dtype: int64"
      ]
     },
     "execution_count": 6,
     "metadata": {},
     "output_type": "execute_result"
    }
   ],
   "source": [
    "app_g_site = df_all.groupby(['domain_name'])['node_name'].nunique()\n",
    "app_g_site"
   ]
  },
  {
   "cell_type": "code",
   "execution_count": 7,
   "metadata": {},
   "outputs": [
    {
     "data": {
      "text/html": [
       "<div>\n",
       "<style scoped>\n",
       "    .dataframe tbody tr th:only-of-type {\n",
       "        vertical-align: middle;\n",
       "    }\n",
       "\n",
       "    .dataframe tbody tr th {\n",
       "        vertical-align: top;\n",
       "    }\n",
       "\n",
       "    .dataframe thead th {\n",
       "        text-align: right;\n",
       "    }\n",
       "</style>\n",
       "<table border=\"1\" class=\"dataframe\">\n",
       "  <thead>\n",
       "    <tr style=\"text-align: right;\">\n",
       "      <th></th>\n",
       "      <th>domain</th>\n",
       "      <th>numbers sites</th>\n",
       "    </tr>\n",
       "  </thead>\n",
       "  <tbody>\n",
       "    <tr>\n",
       "      <th>0</th>\n",
       "      <td>domain_10</td>\n",
       "      <td>483</td>\n",
       "    </tr>\n",
       "    <tr>\n",
       "      <th>1</th>\n",
       "      <td>domain_12</td>\n",
       "      <td>458</td>\n",
       "    </tr>\n",
       "    <tr>\n",
       "      <th>7</th>\n",
       "      <td>domain_8</td>\n",
       "      <td>452</td>\n",
       "    </tr>\n",
       "    <tr>\n",
       "      <th>6</th>\n",
       "      <td>domain_6</td>\n",
       "      <td>430</td>\n",
       "    </tr>\n",
       "    <tr>\n",
       "      <th>3</th>\n",
       "      <td>domain_18</td>\n",
       "      <td>286</td>\n",
       "    </tr>\n",
       "    <tr>\n",
       "      <th>4</th>\n",
       "      <td>domain_20</td>\n",
       "      <td>228</td>\n",
       "    </tr>\n",
       "    <tr>\n",
       "      <th>2</th>\n",
       "      <td>domain_16</td>\n",
       "      <td>221</td>\n",
       "    </tr>\n",
       "    <tr>\n",
       "      <th>5</th>\n",
       "      <td>domain_4</td>\n",
       "      <td>114</td>\n",
       "    </tr>\n",
       "  </tbody>\n",
       "</table>\n",
       "</div>"
      ],
      "text/plain": [
       "      domain  numbers sites\n",
       "0  domain_10            483\n",
       "1  domain_12            458\n",
       "7   domain_8            452\n",
       "6   domain_6            430\n",
       "3  domain_18            286\n",
       "4  domain_20            228\n",
       "2  domain_16            221\n",
       "5   domain_4            114"
      ]
     },
     "execution_count": 7,
     "metadata": {},
     "output_type": "execute_result"
    }
   ],
   "source": [
    "dict_month = {'domain':app_g_site.index,'numbers sites':app_g_site.values}\n",
    "df_app = pd.DataFrame(dict_month)\n",
    "df_app.sort_values(by=['numbers sites'],ascending=False, inplace=True)\n",
    "df_app"
   ]
  },
  {
   "cell_type": "code",
   "execution_count": 8,
   "metadata": {},
   "outputs": [
    {
     "data": {
      "image/png": "[encoded data removed]",
      "text/plain": [
       "<Figure size 1000x300 with 2 Axes>"
      ]
     },
     "metadata": {
      "needs_background": "light"
     },
     "output_type": "display_data"
    }
   ],
   "source": [
    "import seaborn as sns\n",
    "import matplotlib.pyplot as plt\n",
    "fig, axes = plt.subplots(1, 2, figsize=(10,3), dpi=100)\n",
    "sns.set_palette(\"Paired\")\n",
    "labels = app_uni.index.to_list()\n",
    "A_as_ticklabel = [f\"{a/1e6:.2f}\" for a in app_uni.values]\n",
    "ax1 = sns.barplot(x=labels, y = app_uni.values, ax=axes[0])\n",
    "ax1.grid(alpha=0.5)\n",
    "# ax1.set_yticklabels(fontsize=11)\n",
    "ax1.tick_params(axis='both', which='major', labelsize=11)\n",
    "ax1.ticklabel_format(style='sci', scilimits=(0,0), axis='y')\n",
    "ax1.set_xticklabels(labels = labels, rotation = 45, fontsize=11)\n",
    "# ax1.set_yscale('log')\n",
    "# ax1.set_xlabel('(a) The feature importance of LightGBM in the gerneral environment.' , fontsize=15)\n",
    "ax1.set_ylabel('# of records', fontsize=15)\n",
    "ax1.bar_label(ax1.containers[0], label_type='edge', labels=A_as_ticklabel)\n",
    "ax1.set_ylim(top=2.8*1e6)\n",
    "\n",
    "# labels_2 = app_g_site.index.to_list()\n",
    "A_as_ticklabel2 = [f\"{a}\" for a in df_app['numbers sites'].values]\n",
    "ax2 = sns.barplot(x=df_app['domain'].to_list(), y = df_app['numbers sites'].values, ax=axes[1])\n",
    "ax2.grid(alpha=0.5)\n",
    "# ax1.set_yticklabels(fontsize=11)\n",
    "ax2.tick_params(axis='both', which='major', labelsize=11)\n",
    "ax2.ticklabel_format(style='sci', scilimits=(0,0), axis='y')\n",
    "ax2.set_xticklabels(labels = df_app['domain'].to_list(), rotation = 45, fontsize=11)\n",
    "# ax1.set_yscale('log')\n",
    "# ax1.set_xlabel('(a) The feature importance of LightGBM in the gerneral environment.' , fontsize=15)\n",
    "ax2.set_ylabel('# of edge sites', fontsize=15)\n",
    "ax2.bar_label(ax2.containers[0], label_type='edge', labels=A_as_ticklabel2)\n",
    "ax2.set_ylim(top=550)\n",
    "\n",
    "fig.tight_layout()\n",
    "# fig.savefig('./data_scale.pdf')"
   ]
  },
  {
   "cell_type": "code",
   "execution_count": null,
   "metadata": {},
   "outputs": [],
   "source": []
  },
  {
   "cell_type": "code",
   "execution_count": null,
   "metadata": {},
   "outputs": [],
   "source": []
  },
  {
   "cell_type": "code",
   "execution_count": null,
   "metadata": {},
   "outputs": [],
   "source": []
  },
  {
   "cell_type": "code",
   "execution_count": null,
   "metadata": {},
   "outputs": [],
   "source": []
  },
  {
   "cell_type": "code",
   "execution_count": null,
   "metadata": {},
   "outputs": [],
   "source": []
  },
  {
   "cell_type": "code",
   "execution_count": null,
   "metadata": {},
   "outputs": [],
   "source": []
  }
 ],
 "metadata": {
  "kernelspec": {
   "display_name": "Python 3",
   "language": "python",
   "name": "python3"
  },
  "language_info": {
   "codemirror_mode": {
    "name": "ipython",
    "version": 3
   },
   "file_extension": ".py",
   "mimetype": "text/x-python",
   "name": "python",
   "nbconvert_exporter": "python",
   "pygments_lexer": "ipython3",
   "version": "3.7.2"
  }
 },
 "nbformat": 4,
 "nbformat_minor": 4
}
