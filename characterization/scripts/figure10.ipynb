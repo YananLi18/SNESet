{
 "cells": [
  {
   "cell_type": "code",
   "execution_count": 1,
   "metadata": {},
   "outputs": [],
   "source": [
    "import os\n",
    "import numpy as np\n",
    "import pandas as pd\n",
    "import seaborn as sns\n",
    "\n",
    "import matplotlib.pyplot as plt\n",
    "from datetime import datetime, timedelta\n",
    "# Ignore harmless warnings\n",
    "import warnings\n",
    "warnings.filterwarnings(\"ignore\")\n",
    "\n",
    "%matplotlib inline"
   ]
  },
  {
   "cell_type": "code",
   "execution_count": 3,
   "metadata": {},
   "outputs": [],
   "source": [
    "train_df = pd.read_csv('../../datasets/training_2nd_dataset.csv')\n",
    "train_df['identifier'] = train_df['domain_name'] +'-'+ train_df['city'] +'-'+ train_df['isp'] +'-'+ train_df['node_name']\n",
    "\n",
    "used_idx = train_df['identifier'].value_counts().index.tolist()[:-11547]\n",
    "train_filtered = train_df.loc[train_df['identifier'].isin(used_idx)].copy()"
   ]
  },
  {
   "cell_type": "code",
   "execution_count": 4,
   "metadata": {},
   "outputs": [
    {
     "data": {
      "text/plain": [
       "domain_10-city_7-isp_10-node_192      21292\n",
       "domain_8-city_7-isp_10-node_192       21276\n",
       "domain_12-city_7-isp_10-node_192      21152\n",
       "domain_6-city_18-isp_11-node_475      20397\n",
       "domain_10-city_24-isp_10-node_257     20378\n",
       "                                      ...  \n",
       "domain_4-city_20-isp_11-node_179       2009\n",
       "domain_10-city_27-isp_11-node_1211     2006\n",
       "domain_8-city_27-isp_11-node_1211      2005\n",
       "domain_8-city_16-isp_10-node_303       2003\n",
       "domain_10-city_13-isp_12-node_195      2002\n",
       "Name: identifier, Length: 1331, dtype: int64"
      ]
     },
     "execution_count": 4,
     "metadata": {},
     "output_type": "execute_result"
    }
   ],
   "source": [
    "train_filtered['identifier'].value_counts()"
   ]
  },
  {
   "cell_type": "code",
   "execution_count": 6,
   "metadata": {},
   "outputs": [],
   "source": [
    "domain_lst = ['domain_4','domain_6','domain_8','domain_10', 'domain_12','domain_16','domain_18','domain_20']\n",
    "\n",
    "bt_datas = []\n",
    "dr_datas = []\n",
    "for i in domain_lst:\n",
    "    tmp = train_filtered[train_filtered['domain_name'] == i]\n",
    "    bt_datas.append(tmp['avg_fbt_time'].values)\n",
    "    dr_datas.append(tmp['inner_network_droprate'].values)"
   ]
  },
  {
   "cell_type": "code",
   "execution_count": 7,
   "metadata": {},
   "outputs": [
    {
     "data": {
      "image/png": "[encoded data removed]",
      "text/plain": [
       "<Figure size 720x288 with 2 Axes>"
      ]
     },
     "metadata": {},
     "output_type": "display_data"
    }
   ],
   "source": [
    "colors = ['#1f77b4', '#ff7f0e', '#2ca02c', '#d62728', '#9467bd', '#8c564b', '#e377c2', '#7f7f7f', '#bcbd22', '#17becf']\n",
    "hatchs = ['', '/', '\\\\', '|', '-', '+', 'x', 'o', 'O', '.', '*']\n",
    "\n",
    "fig, axs = plt.subplots(1, 1, figsize = (10, 4))\n",
    "\n",
    "dl = [i.split('_')[1] for i in domain_lst]\n",
    "x = np.arange(len(dl))\n",
    "width = 0.35\n",
    "wid=0.4\n",
    "lw = 1.5\n",
    "\n",
    "plt.rcParams['hatch.linewidth'] = 2.5\n",
    "ax3 = axs\n",
    "ax2 = ax3.twinx()\n",
    "b1 = ax3.boxplot(bt_datas,positions=x-width/2, vert=True,widths=width, labels=dl, whis=1, showfliers=False, notch=False, \n",
    "            whiskerprops=dict(linewidth=lw),capprops=dict(linewidth=lw),medianprops=dict(linewidth=lw, color='black'),\n",
    "            boxprops=dict(linewidth=lw),patch_artist=True,)\n",
    "b2 = ax2.boxplot(dr_datas,positions=x+width/2, vert=True,widths=width, labels=dl, whis=1, showfliers=False, notch=False,\n",
    "                 whiskerprops=dict(linewidth=lw),capprops=dict(linewidth=lw),medianprops=dict(linewidth=lw, color='black'),\n",
    "                 boxprops=dict(linewidth=lw),patch_artist=True,)\n",
    "\n",
    "# fill with colors\n",
    "for patch in b1['boxes']:\n",
    "     patch.set_facecolor(colors[0])\n",
    "for patch in b2['boxes']:\n",
    "     patch.set_facecolor(colors[1])\n",
    "\n",
    "\n",
    "ax2.set_ylabel('Inner network droprate (%)', color=colors[1], fontsize=15)  # we already handled the x-label with ax1\n",
    "ax2.tick_params(axis='y', labelcolor=colors[1], labelsize=15)\n",
    "ax3.set_ylim(bottom=0)\n",
    "ax2.set_ylim(bottom=0)\n",
    "ax3.grid(alpha=0.5)\n",
    "ax3.tick_params(axis='y', labelcolor=colors[0])\n",
    "ax3.tick_params(axis='both', which='major', labelsize=15)\n",
    "ax3.set_xlabel('Domain name' , fontsize=15)\n",
    "ax3.set_ylabel('Average first byte time (ms)', color=colors[0],fontsize=15)\n",
    "ax3.set_xticks(x, dl)\n",
    "fig.tight_layout()\n",
    "\n",
    "# fig.savefig('./qos_boxplot.pdf')"
   ]
  },
  {
   "cell_type": "code",
   "execution_count": null,
   "metadata": {},
   "outputs": [],
   "source": []
  },
  {
   "cell_type": "code",
   "execution_count": null,
   "metadata": {},
   "outputs": [],
   "source": []
  },
  {
   "cell_type": "code",
   "execution_count": null,
   "metadata": {},
   "outputs": [],
   "source": []
  },
  {
   "cell_type": "code",
   "execution_count": null,
   "metadata": {},
   "outputs": [],
   "source": []
  },
  {
   "cell_type": "code",
   "execution_count": null,
   "metadata": {},
   "outputs": [],
   "source": []
  },
  {
   "cell_type": "code",
   "execution_count": null,
   "metadata": {},
   "outputs": [],
   "source": []
  },
  {
   "cell_type": "code",
   "execution_count": null,
   "metadata": {},
   "outputs": [],
   "source": []
  },
  {
   "cell_type": "code",
   "execution_count": null,
   "metadata": {},
   "outputs": [],
   "source": []
  },
  {
   "cell_type": "code",
   "execution_count": null,
   "metadata": {},
   "outputs": [],
   "source": []
  },
  {
   "cell_type": "code",
   "execution_count": null,
   "metadata": {},
   "outputs": [],
   "source": []
  },
  {
   "cell_type": "code",
   "execution_count": null,
   "metadata": {},
   "outputs": [],
   "source": []
  },
  {
   "cell_type": "code",
   "execution_count": null,
   "metadata": {},
   "outputs": [],
   "source": []
  },
  {
   "cell_type": "code",
   "execution_count": null,
   "metadata": {},
   "outputs": [],
   "source": []
  },
  {
   "cell_type": "code",
   "execution_count": null,
   "metadata": {},
   "outputs": [],
   "source": []
  },
  {
   "cell_type": "code",
   "execution_count": null,
   "metadata": {},
   "outputs": [],
   "source": []
  },
  {
   "cell_type": "code",
   "execution_count": null,
   "metadata": {},
   "outputs": [],
   "source": []
  },
  {
   "cell_type": "code",
   "execution_count": null,
   "metadata": {},
   "outputs": [],
   "source": []
  },
  {
   "cell_type": "code",
   "execution_count": null,
   "metadata": {},
   "outputs": [],
   "source": []
  },
  {
   "cell_type": "code",
   "execution_count": null,
   "metadata": {},
   "outputs": [],
   "source": []
  },
  {
   "cell_type": "code",
   "execution_count": null,
   "metadata": {},
   "outputs": [],
   "source": []
  },
  {
   "cell_type": "code",
   "execution_count": null,
   "metadata": {},
   "outputs": [],
   "source": []
  },
  {
   "cell_type": "code",
   "execution_count": null,
   "metadata": {},
   "outputs": [],
   "source": []
  },
  {
   "cell_type": "code",
   "execution_count": null,
   "metadata": {},
   "outputs": [],
   "source": []
  },
  {
   "cell_type": "code",
   "execution_count": null,
   "metadata": {},
   "outputs": [],
   "source": []
  }
 ],
 "metadata": {
  "kernelspec": {
   "display_name": "Python 3",
   "language": "python",
   "name": "python3"
  },
  "language_info": {
   "codemirror_mode": {
    "name": "ipython",
    "version": 3
   },
   "file_extension": ".py",
   "mimetype": "text/x-python",
   "name": "python",
   "nbconvert_exporter": "python",
   "pygments_lexer": "ipython3",
   "version": "3.7.2"
  }
 },
 "nbformat": 4,
 "nbformat_minor": 4
}
