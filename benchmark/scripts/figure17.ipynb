{
 "cells": [
  {
   "cell_type": "code",
   "execution_count": 1,
   "metadata": {},
   "outputs": [],
   "source": [
    "import os\n",
    "import numpy as np\n",
    "import pandas as pd\n",
    "import seaborn as sns\n",
    "import matplotlib.pyplot as plt\n",
    "from datetime import datetime, timedelta\n",
    "\n",
    "# Ignore harmless warnings\n",
    "import warnings\n",
    "warnings.filterwarnings(\"ignore\")\n",
    "\n",
    "%matplotlib inline"
   ]
  },
  {
   "cell_type": "code",
   "execution_count": 2,
   "metadata": {},
   "outputs": [],
   "source": [
    "lgb_train_cpu = [30.03, 44.12, 174.67, 228.81, 410.73,]\n",
    "lgb_train_gpu = [15.41, 16.44, 102.76, 106.92, 291.62,]\n",
    "\n",
    "xg_train_cpu = [10.61, 20.93, 22.12, 92.58, 119.25]\n",
    "xg_train_gpu = [3.86,6.45, 6.68,  28.52, 54.47,]\n",
    "\n",
    "cat_train_cpu = [16.45,18.28,146.43,173.31,351.99,]\n",
    "cat_train_gpu = [166.62,199.18,302.62,35.56,43.13]"
   ]
  },
  {
   "cell_type": "code",
   "execution_count": 3,
   "metadata": {},
   "outputs": [
    {
     "data": {
      "image/png": "[encoded data removed]",
      "text/plain": [
       "<Figure size 720x288 with 2 Axes>"
      ]
     },
     "metadata": {
      "needs_background": "light"
     },
     "output_type": "display_data"
    }
   ],
   "source": [
    "labels = ['5K', '10K', '50K','100K','0.5M']\n",
    "x = np.arange(len(labels))  # the label locations\n",
    "width = 0.3  # the width of the bars\n",
    "plt.rcParams['hatch.linewidth'] = 2.5\n",
    "\n",
    "fig, axs = plt.subplots(1, 2,figsize = (10, 4))\n",
    "ax0 = axs[0]\n",
    "ax0.bar(x - width/2, lgb_train_cpu, width, label='CPU',linewidth=2.5, color='none', edgecolor=['#1f77b4','#1f77b4'], hatch='')\n",
    "ax0.bar(x + width/2, lgb_train_gpu, width, label='GPU',linewidth=2.5, color='none', edgecolor=['#ff7f0e','#ff7f0e'], hatch='/')\n",
    "ax0.set_xticklabels(['','5K', '10K', '50K','100K','0.5M'])\n",
    "percentage = [int((a - b) / a * 100) for a,b in zip(lgb_train_cpu,lgb_train_gpu)]\n",
    "\n",
    "ax0.legend(fontsize=15)\n",
    "ax0.grid(alpha=0.5)\n",
    "ax0.tick_params(axis='both', which='major', labelsize=15)\n",
    "ax0.set_yscale(\"log\")\n",
    "ax0.set_ylabel('Training Time (s)', fontsize=15)\n",
    "\n",
    "ax1 = axs[1]\n",
    "x = np.arange(len(labels))  # the label locations\n",
    "ax1.bar(x - width/2, xg_train_cpu, width, label='CPU',linewidth=2.5, color='none', edgecolor=['#1f77b4','#1f77b4'], hatch='')\n",
    "ax1.bar(x + width/2, xg_train_gpu, width, label='GPU',linewidth=2.5, color='none', edgecolor=['#ff7f0e','#ff7f0e'], hatch='/')\n",
    "percentage = [int((a - b) / a * 100) for a,b in zip(xg_train_cpu,xg_train_gpu)]\n",
    "\n",
    "ax1.grid(alpha=0.5)\n",
    "ax1.tick_params(axis='both', which='major', labelsize=15)\n",
    "ax1.set_xticklabels(['','5K', '10K', '50K','100K','0.5M'])\n",
    "ax1.set_ylabel('Training Time (s)', fontsize=15)\n",
    "ax1.set_yscale(\"log\")\n",
    "ax1.legend(fontsize=15)\n",
    "\n",
    "fig.tight_layout()\n",
    "\n",
    "# fig.savefig('./lgb_xgb_gpu_time.pdf')"
   ]
  },
  {
   "cell_type": "code",
   "execution_count": null,
   "metadata": {},
   "outputs": [],
   "source": []
  },
  {
   "cell_type": "code",
   "execution_count": null,
   "metadata": {},
   "outputs": [],
   "source": []
  },
  {
   "cell_type": "code",
   "execution_count": null,
   "metadata": {},
   "outputs": [],
   "source": []
  },
  {
   "cell_type": "code",
   "execution_count": null,
   "metadata": {},
   "outputs": [],
   "source": []
  },
  {
   "cell_type": "code",
   "execution_count": null,
   "metadata": {},
   "outputs": [],
   "source": []
  },
  {
   "cell_type": "code",
   "execution_count": null,
   "metadata": {},
   "outputs": [],
   "source": []
  },
  {
   "cell_type": "code",
   "execution_count": null,
   "metadata": {},
   "outputs": [],
   "source": []
  },
  {
   "cell_type": "code",
   "execution_count": null,
   "metadata": {},
   "outputs": [],
   "source": []
  }
 ],
 "metadata": {
  "kernelspec": {
   "display_name": "Python 3",
   "language": "python",
   "name": "python3"
  },
  "language_info": {
   "codemirror_mode": {
    "name": "ipython",
    "version": 3
   },
   "file_extension": ".py",
   "mimetype": "text/x-python",
   "name": "python",
   "nbconvert_exporter": "python",
   "pygments_lexer": "ipython3",
   "version": "3.7.2"
  }
 },
 "nbformat": 4,
 "nbformat_minor": 4
}
