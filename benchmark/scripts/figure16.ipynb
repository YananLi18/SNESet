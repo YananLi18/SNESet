{
 "cells": [
  {
   "cell_type": "code",
   "execution_count": 1,
   "metadata": {},
   "outputs": [],
   "source": [
    "import os\n",
    "import numpy as np\n",
    "import pandas as pd\n",
    "import seaborn as sns\n",
    "import matplotlib.pyplot as plt\n",
    "from datetime import datetime, timedelta\n",
    "\n",
    "# Ignore harmless warnings\n",
    "import warnings\n",
    "warnings.filterwarnings(\"ignore\")\n",
    "\n",
    "%matplotlib inline"
   ]
  },
  {
   "cell_type": "code",
   "execution_count": 2,
   "metadata": {},
   "outputs": [],
   "source": [
    "xg_cpu_mae = [2.2161, 2.2748, 2.3035, 2.3274, 2.3657]\n",
    "xg_gpu_mae = [2.1232, 2.1854, 2.2365, 2.2407, 2.2792]\n",
    "\n",
    "xg_cpu_smape = [60.97, 62.25, 62.91, 63.36, 63.75]\n",
    "xg_gpu_smape = [59.69, 61.00, 62.32, 62.38, 62.73]"
   ]
  },
  {
   "cell_type": "code",
   "execution_count": 3,
   "metadata": {},
   "outputs": [
    {
     "data": {
      "image/png": "[encoded data removed]",
      "text/plain": [
       "<Figure size 720x288 with 2 Axes>"
      ]
     },
     "metadata": {
      "needs_background": "light"
     },
     "output_type": "display_data"
    }
   ],
   "source": [
    "labels = ['5K', '10K', '50K','100K','0.5M']\n",
    "x = np.arange(len(labels))  # the label locations\n",
    "width = 0.3  # the width of the bars\n",
    "plt.rcParams['hatch.linewidth'] = 2.5\n",
    "fig, axs = plt.subplots(1, 2,figsize = (10, 4))\n",
    "ax0 = axs[0]\n",
    "\n",
    "ax0.bar(x - width/2, xg_cpu_mae, width, label='CPU',linewidth=2.5, color='none', edgecolor=['#1f77b4','#1f77b4'], hatch='')\n",
    "ax0.bar(x + width/2, xg_gpu_mae, width, label='GPU',linewidth=2.5, color='none', edgecolor=['#ff7f0e','#ff7f0e'], hatch='/')\n",
    "ax0.set_xticklabels(['','5K', '10K', '50K','100K','0.5M'])\n",
    "percentage = [round((a - b) / a * 100,2) for a,b in zip(xg_cpu_mae,xg_gpu_mae)]\n",
    "# for x,y,p in zip(x,xg_gpu_mae,percentage):\n",
    "#     ax0.text(x+ width/2+0.1,y + 0.005,str(round(p,2)) + '%',ha='center',fontsize=8)\n",
    "\n",
    "# ax0.bar_label(rects, fmt='%.2f',padding=3, fontsize=15)\n",
    "ax0.legend(fontsize=15)\n",
    "ax0.grid(alpha=0.5)\n",
    "ax0.tick_params(axis='both', which='major', labelsize=15)\n",
    "# ax0.set_xticks(x, labels)\n",
    "ax0.set_ylabel('MAE', fontsize=15)\n",
    "ax0.set_ylim(bottom=2, top=2.4)\n",
    "\n",
    "ax1 = axs[1]\n",
    "x = np.arange(len(labels))  # the label locations\n",
    "ax1.bar(x - width/2, xg_cpu_smape, width, label='CPU',linewidth=2.5, color='none', edgecolor=['#1f77b4','#1f77b4'], hatch='')\n",
    "ax1.bar(x + width/2, xg_gpu_smape, width, label='GPU',linewidth=2.5, color='none', edgecolor=['#ff7f0e','#ff7f0e'], hatch='/')\n",
    "percentage = [\"{:.2f}\".format((a - b) / a * 100,2) for a,b in zip(xg_cpu_smape,xg_gpu_smape)]\n",
    "# for x,y,p in zip(x,xg_gpu_smape,percentage):\n",
    "#     ax1.text(x+ width/2+0.1,y + 0.1,p + '%',ha='center',fontsize=8)\n",
    "ax1.grid(alpha=0.5)\n",
    "ax1.tick_params(axis='both', which='major', labelsize=15)\n",
    "ax1.set_xticklabels(['','5K', '10K', '50K','100K','0.5M'])\n",
    "ax1.set_ylabel('SMAPE (%)', fontsize=15)\n",
    "ax1.set_ylim(bottom=58, top=64.5)\n",
    "ax1.legend(fontsize=15)\n",
    "\n",
    "fig.tight_layout()\n",
    "# handles, labels = ax1.get_legend_handles_labels()\n",
    "# s = fig.subplotpars\n",
    "# wid = s.right-s.left\n",
    "# bb=[s.left+wid/4, s.top+0.06, wid/2, 0.05]\n",
    "# leg = fig.legend(handles, labels, bbox_to_anchor=bb, mode=\"expand\", borderaxespad=0, bbox_transform=fig.transFigure, \n",
    "#                  handlelength=3, ncol=4, fontsize=15)\n",
    "# fig.savefig('./cat_gpu_acc.pdf', bbox_extra_artists=(leg,), bbox_inches='tight')\n",
    "# fig.savefig('./cat_gpu_acc.pdf')"
   ]
  },
  {
   "cell_type": "code",
   "execution_count": null,
   "metadata": {},
   "outputs": [],
   "source": []
  },
  {
   "cell_type": "code",
   "execution_count": null,
   "metadata": {},
   "outputs": [],
   "source": []
  },
  {
   "cell_type": "code",
   "execution_count": null,
   "metadata": {},
   "outputs": [],
   "source": []
  },
  {
   "cell_type": "code",
   "execution_count": null,
   "metadata": {},
   "outputs": [],
   "source": []
  },
  {
   "cell_type": "code",
   "execution_count": null,
   "metadata": {},
   "outputs": [],
   "source": []
  },
  {
   "cell_type": "code",
   "execution_count": null,
   "metadata": {},
   "outputs": [],
   "source": []
  },
  {
   "cell_type": "code",
   "execution_count": null,
   "metadata": {},
   "outputs": [],
   "source": []
  },
  {
   "cell_type": "code",
   "execution_count": null,
   "metadata": {},
   "outputs": [],
   "source": []
  },
  {
   "cell_type": "code",
   "execution_count": null,
   "metadata": {},
   "outputs": [],
   "source": []
  },
  {
   "cell_type": "code",
   "execution_count": null,
   "metadata": {},
   "outputs": [],
   "source": []
  },
  {
   "cell_type": "code",
   "execution_count": null,
   "metadata": {},
   "outputs": [],
   "source": []
  },
  {
   "cell_type": "code",
   "execution_count": null,
   "metadata": {},
   "outputs": [],
   "source": []
  },
  {
   "cell_type": "code",
   "execution_count": null,
   "metadata": {},
   "outputs": [],
   "source": []
  },
  {
   "cell_type": "code",
   "execution_count": null,
   "metadata": {},
   "outputs": [],
   "source": []
  },
  {
   "cell_type": "code",
   "execution_count": null,
   "metadata": {},
   "outputs": [],
   "source": []
  },
  {
   "cell_type": "code",
   "execution_count": null,
   "metadata": {},
   "outputs": [],
   "source": []
  },
  {
   "cell_type": "code",
   "execution_count": null,
   "metadata": {},
   "outputs": [],
   "source": []
  },
  {
   "cell_type": "code",
   "execution_count": null,
   "metadata": {},
   "outputs": [],
   "source": []
  },
  {
   "cell_type": "code",
   "execution_count": null,
   "metadata": {},
   "outputs": [],
   "source": []
  },
  {
   "cell_type": "code",
   "execution_count": null,
   "metadata": {},
   "outputs": [],
   "source": []
  },
  {
   "cell_type": "code",
   "execution_count": null,
   "metadata": {},
   "outputs": [],
   "source": []
  },
  {
   "cell_type": "code",
   "execution_count": null,
   "metadata": {},
   "outputs": [],
   "source": []
  },
  {
   "cell_type": "code",
   "execution_count": null,
   "metadata": {},
   "outputs": [],
   "source": []
  },
  {
   "cell_type": "code",
   "execution_count": null,
   "metadata": {},
   "outputs": [],
   "source": []
  },
  {
   "cell_type": "code",
   "execution_count": null,
   "metadata": {},
   "outputs": [],
   "source": []
  },
  {
   "cell_type": "code",
   "execution_count": null,
   "metadata": {},
   "outputs": [],
   "source": []
  },
  {
   "cell_type": "code",
   "execution_count": null,
   "metadata": {},
   "outputs": [],
   "source": []
  },
  {
   "cell_type": "code",
   "execution_count": null,
   "metadata": {},
   "outputs": [],
   "source": []
  },
  {
   "cell_type": "code",
   "execution_count": null,
   "metadata": {},
   "outputs": [],
   "source": []
  },
  {
   "cell_type": "code",
   "execution_count": null,
   "metadata": {},
   "outputs": [],
   "source": []
  },
  {
   "cell_type": "code",
   "execution_count": null,
   "metadata": {},
   "outputs": [],
   "source": []
  },
  {
   "cell_type": "code",
   "execution_count": null,
   "metadata": {},
   "outputs": [],
   "source": []
  }
 ],
 "metadata": {
  "kernelspec": {
   "display_name": "Python 3",
   "language": "python",
   "name": "python3"
  },
  "language_info": {
   "codemirror_mode": {
    "name": "ipython",
    "version": 3
   },
   "file_extension": ".py",
   "mimetype": "text/x-python",
   "name": "python",
   "nbconvert_exporter": "python",
   "pygments_lexer": "ipython3",
   "version": "3.7.2"
  }
 },
 "nbformat": 4,
 "nbformat_minor": 4
}
